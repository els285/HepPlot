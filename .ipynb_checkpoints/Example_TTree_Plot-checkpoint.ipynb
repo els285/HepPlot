{
 "cells": [
  {
   "cell_type": "code",
   "execution_count": 1,
   "id": "immediate-burke",
   "metadata": {},
   "outputs": [
    {
     "data": {
      "application/javascript": [
       "\n",
       "require(['notebook'],\n",
       "  function() {\n",
       "    IPython.CodeCell.config_defaults.highlight_modes['magic_text/x-c++src'] = {'reg':[/^%%cpp/]};\n",
       "    console.log(\"JupyROOT - %%cpp magic configured\");\n",
       "  }\n",
       ");\n"
      ]
     },
     "metadata": {},
     "output_type": "display_data"
    },
    {
     "name": "stdout",
     "output_type": "stream",
     "text": [
      "Welcome to JupyROOT 6.08/06\n"
     ]
    }
   ],
   "source": [
    "import ROOT"
   ]
  },
  {
   "cell_type": "markdown",
   "id": "usual-apartment",
   "metadata": {},
   "source": [
    "Import the function `MakePyHist`, which takes a specified file and TTree, and projects out a Pythonic histogram"
   ]
  },
  {
   "cell_type": "code",
   "execution_count": 3,
   "id": "premium-liability",
   "metadata": {},
   "outputs": [],
   "source": [
    "from FromTree import MakePyHist"
   ]
  },
  {
   "cell_type": "markdown",
   "id": "selected-correspondence",
   "metadata": {},
   "source": [
    "We will project histograms of electron pT out of two separate ROOT TTrees in two separate files"
   ]
  },
  {
   "cell_type": "markdown",
   "id": "solid-diagram",
   "metadata": {},
   "source": [
    "The binning of the histogram must always be defined prior to the projection"
   ]
  },
  {
   "cell_type": "code",
   "execution_count": 4,
   "id": "lonely-marina",
   "metadata": {},
   "outputs": [],
   "source": [
    "import numpy as np\n",
    "binning = np.linspace(0,500e3,51)"
   ]
  },
  {
   "cell_type": "markdown",
   "id": "chubby-addition",
   "metadata": {},
   "source": [
    "Caling the `MakePyHist` function:"
   ]
  },
  {
   "cell_type": "code",
   "execution_count": 7,
   "id": "female-raleigh",
   "metadata": {},
   "outputs": [],
   "source": [
    "pyhist1 = MakePyHist(filename=\"/home/ethan/Documents/Qualification_Task/June_Tests/Differential_TTbar_study/ttbar_inclusive_08_efficiencies_june15.root\",\n",
    "\t\t\t\ttreename=\"smeared\",\n",
    "\t\t\t\tbinning=binning,\n",
    "\t\t\t\tbranchname=\"el_pt\",\n",
    "\t\t\t\t)"
   ]
  },
  {
   "cell_type": "markdown",
   "id": "national-disposition",
   "metadata": {},
   "source": [
    "We can repeat for different TTrees:"
   ]
  },
  {
   "cell_type": "code",
   "execution_count": 8,
   "id": "subjective-herald",
   "metadata": {
    "collapsed": true
   },
   "outputs": [
    {
     "name": "stderr",
     "output_type": "stream",
     "text": [
      "Warning in <TClass::Init>: no dictionary for class ROOT::TIOFeatures is available\n"
     ]
    }
   ],
   "source": [
    "pyhist2 = MakePyHist(filename=\"/home/ethan/Documents/Qualification_Task/TTbar_Samples/ttbar_dec15_reco_even.root\",\n",
    "\t\t\t\ttreename=\"reco_even\",\n",
    "\t\t\t\tbinning=binning,\n",
    "\t\t\t\tbranchname=\"el_pt\",\n",
    "\t\t\t\t)\n",
    "\n",
    "\n",
    "pyhist3 = MakePyHist(filename=\"/home/ethan/Documents/Qualification_Task/June_Tests/Differential_TTbar_study//ttbar_differentialSmear_alternative_efficiencies_june10.root\",\n",
    "\t\t\t\ttreename=\"smeared\",\n",
    "\t\t\t\tbinning=binning,\n",
    "\t\t\t\tbranchname=\"el_pt\",\n",
    "\t\t\t\t)"
   ]
  },
  {
   "cell_type": "markdown",
   "id": "stuffed-hearing",
   "metadata": {},
   "source": [
    "Now import the plotting function:"
   ]
  },
  {
   "cell_type": "code",
   "execution_count": 10,
   "id": "reasonable-scholarship",
   "metadata": {},
   "outputs": [],
   "source": [
    "from HistPlot1 import hist1dplot_withratio as plot "
   ]
  },
  {
   "cell_type": "code",
   "execution_count": 11,
   "id": "peripheral-armor",
   "metadata": {},
   "outputs": [
    {
     "ename": "NameError",
     "evalue": "name 'phist33' is not defined",
     "output_type": "error",
     "traceback": [
      "\u001b[0;31m\u001b[0m",
      "\u001b[0;31mNameError\u001b[0mTraceback (most recent call last)",
      "\u001b[0;32m<ipython-input-11-67e4ce6cbaae>\u001b[0m in \u001b[0;36m<module>\u001b[0;34m()\u001b[0m\n\u001b[0;32m----> 1\u001b[0;31m \u001b[0mplot\u001b[0m\u001b[0;34m(\u001b[0m\u001b[0;34m[\u001b[0m\u001b[0mpyhist1\u001b[0m\u001b[0;34m,\u001b[0m\u001b[0mpyhist2\u001b[0m\u001b[0;34m,\u001b[0m\u001b[0mpyhist3\u001b[0m\u001b[0;34m]\u001b[0m\u001b[0;34m,\u001b[0m\u001b[0mnormaliser\u001b[0m\u001b[0;34m=\u001b[0m\u001b[0mphist33\u001b[0m\u001b[0;34m,\u001b[0m\u001b[0mtitle\u001b[0m\u001b[0;34m=\u001b[0m\u001b[0;34m\"Histograms\"\u001b[0m\u001b[0;34m)\u001b[0m\u001b[0;34m\u001b[0m\u001b[0m\n\u001b[0m",
      "\u001b[0;31mNameError\u001b[0m: name 'phist33' is not defined"
     ]
    }
   ],
   "source": [
    "plot([pyhist1,pyhist2,pyhist3],normaliser=pyhist3,title=\"Histograms\")"
   ]
  },
  {
   "cell_type": "code",
   "execution_count": null,
   "id": "understood-major",
   "metadata": {},
   "outputs": [],
   "source": []
  }
 ],
 "metadata": {
  "kernelspec": {
   "display_name": "Python 2",
   "language": "python",
   "name": "python2"
  },
  "language_info": {
   "codemirror_mode": {
    "name": "ipython",
    "version": 2
   },
   "file_extension": ".py",
   "mimetype": "text/x-python",
   "name": "python",
   "nbconvert_exporter": "python",
   "pygments_lexer": "ipython2",
   "version": "2.7.17"
  },
  "varInspector": {
   "cols": {
    "lenName": 16,
    "lenType": 16,
    "lenVar": 40
   },
   "kernels_config": {
    "python": {
     "delete_cmd_postfix": "",
     "delete_cmd_prefix": "del ",
     "library": "var_list.py",
     "varRefreshCmd": "print(var_dic_list())"
    },
    "r": {
     "delete_cmd_postfix": ") ",
     "delete_cmd_prefix": "rm(",
     "library": "var_list.r",
     "varRefreshCmd": "cat(var_dic_list()) "
    }
   },
   "types_to_exclude": [
    "module",
    "function",
    "builtin_function_or_method",
    "instance",
    "_Feature"
   ],
   "window_display": false
  }
 },
 "nbformat": 4,
 "nbformat_minor": 5
}
